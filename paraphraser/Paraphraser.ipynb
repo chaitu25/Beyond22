{
 "cells": [
  {
   "cell_type": "code",
   "execution_count": 1,
   "id": "a4e40365",
   "metadata": {},
   "outputs": [
    {
     "name": "stdout",
     "output_type": "stream",
     "text": [
      "Collecting git+https://github.com/PrithivirajDamodaran/Parrot_Paraphraser.git\n",
      "  Cloning https://github.com/PrithivirajDamodaran/Parrot_Paraphraser.git to c:\\users\\chait\\appdata\\local\\temp\\pip-req-build-yt8oozhb\n",
      "Requirement already satisfied: transformers in c:\\users\\chait\\anaconda3\\lib\\site-packages (from parrot==1.0) (4.16.2)\n",
      "Requirement already satisfied: sentencepiece in c:\\users\\chait\\anaconda3\\lib\\site-packages (from parrot==1.0) (0.1.96)\n",
      "Requirement already satisfied: python-Levenshtein in c:\\users\\chait\\anaconda3\\lib\\site-packages (from parrot==1.0) (0.12.2)\n",
      "Requirement already satisfied: sentence-transformers in c:\\users\\chait\\anaconda3\\lib\\site-packages (from parrot==1.0) (2.2.0)\n",
      "Requirement already satisfied: fuzzywuzzy in c:\\users\\chait\\anaconda3\\lib\\site-packages (from parrot==1.0) (0.18.0)\n",
      "Requirement already satisfied: setuptools in c:\\users\\chait\\anaconda3\\lib\\site-packages (from python-Levenshtein->parrot==1.0) (52.0.0.post20210125)\n",
      "Requirement already satisfied: scikit-learn in c:\\users\\chait\\anaconda3\\lib\\site-packages (from sentence-transformers->parrot==1.0) (0.24.1)\n",
      "Requirement already satisfied: scipy in c:\\users\\chait\\anaconda3\\lib\\site-packages (from sentence-transformers->parrot==1.0) (1.7.1)\n",
      "Requirement already satisfied: huggingface-hub in c:\\users\\chait\\anaconda3\\lib\\site-packages (from sentence-transformers->parrot==1.0) (0.4.0)\n",
      "Requirement already satisfied: tqdm in c:\\users\\chait\\anaconda3\\lib\\site-packages (from sentence-transformers->parrot==1.0) (4.59.0)\n",
      "Requirement already satisfied: torchvision in c:\\users\\chait\\anaconda3\\lib\\site-packages (from sentence-transformers->parrot==1.0) (0.11.3)\n",
      "Requirement already satisfied: nltk in c:\\users\\chait\\anaconda3\\lib\\site-packages (from sentence-transformers->parrot==1.0) (3.6.1)\n",
      "Requirement already satisfied: torch>=1.6.0 in c:\\users\\chait\\anaconda3\\lib\\site-packages (from sentence-transformers->parrot==1.0) (1.10.2)\n",
      "Requirement already satisfied: numpy in c:\\users\\chait\\anaconda3\\lib\\site-packages (from sentence-transformers->parrot==1.0) (1.19.5)\n",
      "Requirement already satisfied: typing-extensions in c:\\users\\chait\\anaconda3\\lib\\site-packages (from torch>=1.6.0->sentence-transformers->parrot==1.0) (3.7.4.3)\n",
      "Requirement already satisfied: regex!=2019.12.17 in c:\\users\\chait\\anaconda3\\lib\\site-packages (from transformers->parrot==1.0) (2021.4.4)\n",
      "Requirement already satisfied: packaging>=20.0 in c:\\users\\chait\\anaconda3\\lib\\site-packages (from transformers->parrot==1.0) (20.9)\n",
      "Requirement already satisfied: sacremoses in c:\\users\\chait\\anaconda3\\lib\\site-packages (from transformers->parrot==1.0) (0.0.47)\n",
      "Requirement already satisfied: filelock in c:\\users\\chait\\anaconda3\\lib\\site-packages (from transformers->parrot==1.0) (3.0.12)\n",
      "Requirement already satisfied: requests in c:\\users\\chait\\anaconda3\\lib\\site-packages (from transformers->parrot==1.0) (2.27.1)\n",
      "Requirement already satisfied: pyyaml>=5.1 in c:\\users\\chait\\anaconda3\\lib\\site-packages (from transformers->parrot==1.0) (5.4.1)\n",
      "Requirement already satisfied: tokenizers!=0.11.3,>=0.10.1 in c:\\users\\chait\\anaconda3\\lib\\site-packages (from transformers->parrot==1.0) (0.11.5)\n",
      "Requirement already satisfied: pyparsing>=2.0.2 in c:\\users\\chait\\anaconda3\\lib\\site-packages (from packaging>=20.0->transformers->parrot==1.0) (2.4.7)\n",
      "Requirement already satisfied: click in c:\\users\\chait\\anaconda3\\lib\\site-packages (from nltk->sentence-transformers->parrot==1.0) (7.1.2)\n",
      "Requirement already satisfied: joblib in c:\\users\\chait\\anaconda3\\lib\\site-packages (from nltk->sentence-transformers->parrot==1.0) (1.0.1)\n",
      "Requirement already satisfied: idna<4,>=2.5 in c:\\users\\chait\\anaconda3\\lib\\site-packages (from requests->transformers->parrot==1.0) (3.2)\n",
      "Requirement already satisfied: urllib3<1.27,>=1.21.1 in c:\\users\\chait\\anaconda3\\lib\\site-packages (from requests->transformers->parrot==1.0) (1.26.7)\n",
      "Requirement already satisfied: certifi>=2017.4.17 in c:\\users\\chait\\anaconda3\\lib\\site-packages (from requests->transformers->parrot==1.0) (2021.5.30)\n",
      "Requirement already satisfied: charset-normalizer~=2.0.0 in c:\\users\\chait\\anaconda3\\lib\\site-packages (from requests->transformers->parrot==1.0) (2.0.6)\n",
      "Requirement already satisfied: six in c:\\users\\chait\\anaconda3\\lib\\site-packages (from sacremoses->transformers->parrot==1.0) (1.15.0)\n",
      "Requirement already satisfied: threadpoolctl>=2.0.0 in c:\\users\\chait\\anaconda3\\lib\\site-packages (from scikit-learn->sentence-transformers->parrot==1.0) (2.1.0)\n",
      "Requirement already satisfied: pillow!=8.3.0,>=5.3.0 in c:\\users\\chait\\anaconda3\\lib\\site-packages (from torchvision->sentence-transformers->parrot==1.0) (8.3.2)\n",
      "Building wheels for collected packages: parrot\n",
      "  Building wheel for parrot (setup.py): started\n",
      "  Building wheel for parrot (setup.py): finished with status 'done'\n",
      "  Created wheel for parrot: filename=parrot-1.0-py3-none-any.whl size=8637 sha256=674d5372439792446196f4be5edd24b0bfaa7cf92060b0135c00bc4461fabf9a\n",
      "  Stored in directory: C:\\Users\\chait\\AppData\\Local\\Temp\\pip-ephem-wheel-cache-sb0wzhg0\\wheels\\2f\\4d\\b1\\05ff6a0b94ee4667ff640602c0a685d4a0bf85e4286ffb44ae\n",
      "Successfully built parrot\n",
      "Installing collected packages: parrot\n",
      "Successfully installed parrot-1.0\n"
     ]
    },
    {
     "name": "stderr",
     "output_type": "stream",
     "text": [
      "  Running command git clone -q https://github.com/PrithivirajDamodaran/Parrot_Paraphraser.git 'C:\\Users\\chait\\AppData\\Local\\Temp\\pip-req-build-yt8oozhb'\n"
     ]
    }
   ],
   "source": [
    "!pip install --upgrade --no-cache-dir git+https://github.com/PrithivirajDamodaran/Parrot_Paraphraser.git"
   ]
  },
  {
   "cell_type": "code",
   "execution_count": 1,
   "id": "639ebed6",
   "metadata": {},
   "outputs": [
    {
     "name": "stdout",
     "output_type": "stream",
     "text": [
      "Requirement already satisfied: parrot in c:\\users\\chait\\anaconda3\\lib\\site-packages (1.0)\n",
      "Requirement already satisfied: python-Levenshtein in c:\\users\\chait\\anaconda3\\lib\\site-packages (from parrot) (0.12.2)\n",
      "Requirement already satisfied: sentence-transformers in c:\\users\\chait\\anaconda3\\lib\\site-packages (from parrot) (2.2.0)\n",
      "Requirement already satisfied: fuzzywuzzy in c:\\users\\chait\\anaconda3\\lib\\site-packages (from parrot) (0.18.0)\n",
      "Requirement already satisfied: sentencepiece in c:\\users\\chait\\anaconda3\\lib\\site-packages (from parrot) (0.1.96)\n",
      "Requirement already satisfied: transformers in c:\\users\\chait\\anaconda3\\lib\\site-packages (from parrot) (4.16.2)\n",
      "Requirement already satisfied: setuptools in c:\\users\\chait\\anaconda3\\lib\\site-packages (from python-Levenshtein->parrot) (52.0.0.post20210125)\n",
      "Requirement already satisfied: numpy in c:\\users\\chait\\anaconda3\\lib\\site-packages (from sentence-transformers->parrot) (1.19.5)\n",
      "Requirement already satisfied: huggingface-hub in c:\\users\\chait\\anaconda3\\lib\\site-packages (from sentence-transformers->parrot) (0.4.0)\n",
      "Requirement already satisfied: nltk in c:\\users\\chait\\anaconda3\\lib\\site-packages (from sentence-transformers->parrot) (3.6.1)\n",
      "Requirement already satisfied: torchvision in c:\\users\\chait\\anaconda3\\lib\\site-packages (from sentence-transformers->parrot) (0.11.3)\n",
      "Requirement already satisfied: scikit-learn in c:\\users\\chait\\anaconda3\\lib\\site-packages (from sentence-transformers->parrot) (0.24.1)\n",
      "Requirement already satisfied: scipy in c:\\users\\chait\\anaconda3\\lib\\site-packages (from sentence-transformers->parrot) (1.7.1)\n",
      "Requirement already satisfied: torch>=1.6.0 in c:\\users\\chait\\anaconda3\\lib\\site-packages (from sentence-transformers->parrot) (1.10.2)\n",
      "Requirement already satisfied: tqdm in c:\\users\\chait\\anaconda3\\lib\\site-packages (from sentence-transformers->parrot) (4.59.0)\n",
      "Requirement already satisfied: typing-extensions in c:\\users\\chait\\anaconda3\\lib\\site-packages (from torch>=1.6.0->sentence-transformers->parrot) (4.2.0)\n",
      "Requirement already satisfied: filelock in c:\\users\\chait\\anaconda3\\lib\\site-packages (from transformers->parrot) (3.0.12)\n",
      "Requirement already satisfied: requests in c:\\users\\chait\\anaconda3\\lib\\site-packages (from transformers->parrot) (2.27.1)\n",
      "Requirement already satisfied: packaging>=20.0 in c:\\users\\chait\\anaconda3\\lib\\site-packages (from transformers->parrot) (20.9)\n",
      "Requirement already satisfied: tokenizers!=0.11.3,>=0.10.1 in c:\\users\\chait\\anaconda3\\lib\\site-packages (from transformers->parrot) (0.11.5)\n",
      "Requirement already satisfied: pyyaml>=5.1 in c:\\users\\chait\\anaconda3\\lib\\site-packages (from transformers->parrot) (5.4.1)\n",
      "Requirement already satisfied: regex!=2019.12.17 in c:\\users\\chait\\anaconda3\\lib\\site-packages (from transformers->parrot) (2021.4.4)\n",
      "Requirement already satisfied: sacremoses in c:\\users\\chait\\anaconda3\\lib\\site-packages (from transformers->parrot) (0.0.47)\n",
      "Requirement already satisfied: pyparsing>=2.0.2 in c:\\users\\chait\\anaconda3\\lib\\site-packages (from packaging>=20.0->transformers->parrot) (2.4.7)\n",
      "Requirement already satisfied: joblib in c:\\users\\chait\\anaconda3\\lib\\site-packages (from nltk->sentence-transformers->parrot) (1.0.1)\n",
      "Requirement already satisfied: click in c:\\users\\chait\\anaconda3\\lib\\site-packages (from nltk->sentence-transformers->parrot) (7.1.2)\n",
      "Requirement already satisfied: charset-normalizer~=2.0.0 in c:\\users\\chait\\anaconda3\\lib\\site-packages (from requests->transformers->parrot) (2.0.6)\n",
      "Requirement already satisfied: certifi>=2017.4.17 in c:\\users\\chait\\anaconda3\\lib\\site-packages (from requests->transformers->parrot) (2021.5.30)\n",
      "Requirement already satisfied: urllib3<1.27,>=1.21.1 in c:\\users\\chait\\anaconda3\\lib\\site-packages (from requests->transformers->parrot) (1.26.7)\n",
      "Requirement already satisfied: idna<4,>=2.5 in c:\\users\\chait\\anaconda3\\lib\\site-packages (from requests->transformers->parrot) (3.2)\n",
      "Requirement already satisfied: six in c:\\users\\chait\\anaconda3\\lib\\site-packages (from sacremoses->transformers->parrot) (1.15.0)\n",
      "Requirement already satisfied: threadpoolctl>=2.0.0 in c:\\users\\chait\\anaconda3\\lib\\site-packages (from scikit-learn->sentence-transformers->parrot) (2.1.0)\n",
      "Requirement already satisfied: pillow!=8.3.0,>=5.3.0 in c:\\users\\chait\\anaconda3\\lib\\site-packages (from torchvision->sentence-transformers->parrot) (8.3.2)\n"
     ]
    }
   ],
   "source": [
    "!pip install parrot"
   ]
  },
  {
   "cell_type": "code",
   "execution_count": 2,
   "id": "d8e7e9cd",
   "metadata": {},
   "outputs": [],
   "source": [
    "from parrot import Parrot\n",
    "import torch\n",
    "import warnings\n",
    "warnings.filterwarnings(\"ignore\")"
   ]
  },
  {
   "cell_type": "code",
   "execution_count": 3,
   "id": "c4fc5c07",
   "metadata": {},
   "outputs": [],
   "source": [
    "parrot = Parrot()"
   ]
  },
  {
   "cell_type": "code",
   "execution_count": 36,
   "id": "0536892d",
   "metadata": {},
   "outputs": [
    {
     "name": "stdout",
     "output_type": "stream",
     "text": [
      "----------------------------------------------------------------------------------------------------\n",
      "Input_phrase:  who are the core partners in this project ? \n",
      "----------------------------------------------------------------------------------------------------\n"
     ]
    },
    {
     "name": "stderr",
     "output_type": "stream",
     "text": [
      "Asking to truncate to max_length but no maximum length is provided and the model has no predefined maximum length. Default to no truncation.\n"
     ]
    },
    {
     "name": "stdout",
     "output_type": "stream",
     "text": [
      "who are the core partners?\n",
      "how do you name the partners for the project?\n",
      "who is the core partner of the project?\n",
      "who is the core partner of this project?\n",
      "are these core partners in this project?\n",
      "who are the core partners in this project?\n",
      "----------------------------------------------------------------------------------------------------\n",
      "Input_phrase:  Who is involved in this project?\n",
      "----------------------------------------------------------------------------------------------------\n",
      "who did this project and why?\n",
      "who are involved with this project?\n",
      "who's involved in the project?\n",
      "who is involved in the project?\n",
      "who has been involved in this project?\n",
      "who is involved in this project?\n"
     ]
    }
   ],
   "source": [
    "parrot = Parrot(model_tag='prithivida/parrot_paraphraser_on_T5',use_gpu=False)\n",
    "phrases = [\"who are the core partners in this project ? \",\"Who is involved in this project?\"]\n",
    "\n",
    "for phrase in phrases:\n",
    "  print(\"-\"*100)\n",
    "  print(\"Input_phrase: \", phrase)\n",
    "  print(\"-\"*100)\n",
    "  para_phrases = parrot.augment(input_phrase=phrase, use_gpu=False)\n",
    "  for para_phrase in para_phrases:\n",
    "    sen,number = para_phrase\n",
    "    print(sen)"
   ]
  },
  {
   "cell_type": "code",
   "execution_count": null,
   "id": "1cc301b9",
   "metadata": {},
   "outputs": [],
   "source": [
    "model_path = \"prithivida/parrot_paraphraser_on_T5\"\n",
    "if not model_path:\n",
    "    parrot = Parrot(model_tag=\"prithivida/parrot_paraphraser_on_T5\")"
   ]
  }
 ],
 "metadata": {
  "kernelspec": {
   "display_name": "Python 3",
   "language": "python",
   "name": "python3"
  },
  "language_info": {
   "codemirror_mode": {
    "name": "ipython",
    "version": 3
   },
   "file_extension": ".py",
   "mimetype": "text/x-python",
   "name": "python",
   "nbconvert_exporter": "python",
   "pygments_lexer": "ipython3",
   "version": "3.8.8"
  }
 },
 "nbformat": 4,
 "nbformat_minor": 5
}
